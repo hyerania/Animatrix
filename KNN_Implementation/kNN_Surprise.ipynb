{
 "cells": [
  {
   "cell_type": "markdown",
   "metadata": {},
   "source": [
    "# Imports and Installs"
   ]
  },
  {
   "cell_type": "code",
   "execution_count": 1,
   "metadata": {},
   "outputs": [
    {
     "name": "stdout",
     "output_type": "stream",
     "text": [
      "Requirement already satisfied: surprise in c:\\users\\kevin\\anaconda3\\envs\\cs670\\lib\\site-packages (0.1)\n",
      "Requirement already satisfied: scikit-surprise in c:\\users\\kevin\\anaconda3\\envs\\cs670\\lib\\site-packages (from surprise) (1.0.5)\n",
      "Requirement already satisfied: numpy>=1.11.2 in c:\\users\\kevin\\anaconda3\\envs\\cs670\\lib\\site-packages (from scikit-surprise->surprise) (1.14.0)\n",
      "Requirement already satisfied: six>=1.10.0 in c:\\users\\kevin\\anaconda3\\envs\\cs670\\lib\\site-packages (from scikit-surprise->surprise) (1.11.0)\n",
      "Requirement already satisfied: joblib>=0.11 in c:\\users\\kevin\\anaconda3\\envs\\cs670\\lib\\site-packages (from scikit-surprise->surprise) (0.11)\n"
     ]
    }
   ],
   "source": [
    "# Doesn't come default with our anaconda installations\n",
    "# http://surpriselib.com/\n",
    "\n",
    "!pip install surprise"
   ]
  },
  {
   "cell_type": "code",
   "execution_count": 2,
   "metadata": {},
   "outputs": [],
   "source": [
    "from datetime import datetime\n",
    "\n",
    "def now():\n",
    "    return str(datetime.now())"
   ]
  },
  {
   "cell_type": "code",
   "execution_count": 3,
   "metadata": {},
   "outputs": [
    {
     "name": "stdout",
     "output_type": "stream",
     "text": [
      "2018-04-20 21:18:40.177000\n",
      "2018-04-20 21:18:40.572000\n"
     ]
    }
   ],
   "source": [
    "print(now())\n",
    "\n",
    "import pandas as pd\n",
    "import numpy as np\n",
    "\n",
    "from surprise import KNNBaseline\n",
    "from surprise.model_selection import cross_validate\n",
    "from surprise.model_selection import train_test_split\n",
    "from surprise import Dataset\n",
    "from surprise import Reader\n",
    "from surprise import accuracy\n",
    "\n",
    "print(now())"
   ]
  },
  {
   "cell_type": "markdown",
   "metadata": {},
   "source": [
    "# Loading In Data"
   ]
  },
  {
   "cell_type": "code",
   "execution_count": 5,
   "metadata": {},
   "outputs": [
    {
     "name": "stdout",
     "output_type": "stream",
     "text": [
      "2018-04-20 21:18:52.652000\n",
      "2018-04-20 21:18:52.656000\n"
     ]
    }
   ],
   "source": [
    "# Only using 1mil lines bc my computer cant handle more than that\n",
    "# Ran this one already\n",
    "\n",
    "print(now())\n",
    "infile = open('rating.csv', 'r')\n",
    "outfile = open('ratingSubset.csv', 'w')\n",
    "\n",
    "#for i in range(1000000):\n",
    "#    outfile.write(infile.readline())\n",
    "print(now())\n",
    "\n",
    "infile.close()\n",
    "outfile.close()"
   ]
  },
  {
   "cell_type": "markdown",
   "metadata": {},
   "source": [
    "Here I route the data through Pandas so I can adjust the \"-1\" ratings. -1, in the dataset, represents \"User has seen this item but declined to rate it\". I choose to interpret this as \"User mildly likes item\"--even if they outright hated it, they had enough interest in the item to 1) watch it, and 2) mark the item as watched (MyAnimeList does not automatically flag items you've seen, it's not Netflix)\n",
    "\n",
    "Thus I changed all -1s to 5s."
   ]
  },
  {
   "cell_type": "code",
   "execution_count": 6,
   "metadata": {},
   "outputs": [
    {
     "name": "stdout",
     "output_type": "stream",
     "text": [
      "2018-04-20 21:18:55.910000\n",
      "2018-04-20 21:18:58.301000\n"
     ]
    }
   ],
   "source": [
    "print(now())\n",
    "\n",
    "ratingSubset = pd.read_csv('rating.csv')\n",
    "ratingSubset = ratingSubset[ratingSubset.user_id <= 6000]\n",
    "print(now())"
   ]
  },
  {
   "cell_type": "code",
   "execution_count": 7,
   "metadata": {},
   "outputs": [],
   "source": [
    "ratingSubset[\"rating\"] = ratingSubset[\"rating\"].replace(to_replace = -1, value = 5)"
   ]
  },
  {
   "cell_type": "code",
   "execution_count": 8,
   "metadata": {},
   "outputs": [
    {
     "data": {
      "text/html": [
       "<div>\n",
       "<style scoped>\n",
       "    .dataframe tbody tr th:only-of-type {\n",
       "        vertical-align: middle;\n",
       "    }\n",
       "\n",
       "    .dataframe tbody tr th {\n",
       "        vertical-align: top;\n",
       "    }\n",
       "\n",
       "    .dataframe thead th {\n",
       "        text-align: right;\n",
       "    }\n",
       "</style>\n",
       "<table border=\"1\" class=\"dataframe\">\n",
       "  <thead>\n",
       "    <tr style=\"text-align: right;\">\n",
       "      <th></th>\n",
       "      <th>user_id</th>\n",
       "      <th>anime_id</th>\n",
       "      <th>rating</th>\n",
       "    </tr>\n",
       "  </thead>\n",
       "  <tbody>\n",
       "    <tr>\n",
       "      <th>0</th>\n",
       "      <td>1</td>\n",
       "      <td>20</td>\n",
       "      <td>5</td>\n",
       "    </tr>\n",
       "    <tr>\n",
       "      <th>1</th>\n",
       "      <td>1</td>\n",
       "      <td>24</td>\n",
       "      <td>5</td>\n",
       "    </tr>\n",
       "    <tr>\n",
       "      <th>2</th>\n",
       "      <td>1</td>\n",
       "      <td>79</td>\n",
       "      <td>5</td>\n",
       "    </tr>\n",
       "    <tr>\n",
       "      <th>3</th>\n",
       "      <td>1</td>\n",
       "      <td>226</td>\n",
       "      <td>5</td>\n",
       "    </tr>\n",
       "    <tr>\n",
       "      <th>4</th>\n",
       "      <td>1</td>\n",
       "      <td>241</td>\n",
       "      <td>5</td>\n",
       "    </tr>\n",
       "  </tbody>\n",
       "</table>\n",
       "</div>"
      ],
      "text/plain": [
       "   user_id  anime_id  rating\n",
       "0        1        20       5\n",
       "1        1        24       5\n",
       "2        1        79       5\n",
       "3        1       226       5\n",
       "4        1       241       5"
      ]
     },
     "execution_count": 8,
     "metadata": {},
     "output_type": "execute_result"
    }
   ],
   "source": [
    "ratingSubset.head()"
   ]
  },
  {
   "cell_type": "code",
   "execution_count": 9,
   "metadata": {},
   "outputs": [],
   "source": [
    "# Reader class: http://surprise.readthedocs.io/en/stable/reader.html#surprise.reader.Reader\n",
    "# Using custom datasets: http://surprise.readthedocs.io/en/stable/getting_started.html#load-custom\n",
    "\n",
    "# Directly from file:\n",
    "# reader = Reader(line_format='user item rating', sep=',', rating_scale=(1,10), skip_lines=1)\n",
    "# ratingSubset = Dataset.load_from_file(\"ratingSubset.csv\", reader=reader)\n",
    "\n",
    "# From Pandas DataFrame:\n",
    "reader = Reader(rating_scale=(1, 10))\n",
    "\n",
    "ratingSubset = Dataset.load_from_df(ratingSubset[['user_id', 'anime_id', 'rating']], reader)\n"
   ]
  },
  {
   "cell_type": "markdown",
   "metadata": {},
   "source": [
    "# Training and Sample Predictions\n",
    "\n",
    "Largely following this guide: http://surprise.readthedocs.io/en/stable/getting_started.html"
   ]
  },
  {
   "cell_type": "markdown",
   "metadata": {},
   "source": [
    "## Training"
   ]
  },
  {
   "cell_type": "code",
   "execution_count": 23,
   "metadata": {},
   "outputs": [],
   "source": [
    "# http://surprise.readthedocs.io/en/stable/matrix_factorization.html#surprise.prediction_algorithms.matrix_factorization.SVD\n",
    "sim_options = {'name': 'pearson_baseline',\n",
    "               }\n",
    "bsl_options = {'method': 'sgd',\n",
    "                'learning_rate': .005,'n_epochs': 50\n",
    "               }\n",
    "#bsl_options = {'method': 'als',\n",
    "#               'n_epochs': 50,'reg_u': 20,\n",
    "#               'reg_i': 25\n",
    "#               }\n",
    "algo = KNNBaseline(200,1,sim_options=sim_options,bsl_options=bsl_options)"
   ]
  },
  {
   "cell_type": "code",
   "execution_count": 24,
   "metadata": {},
   "outputs": [],
   "source": [
    "trainingRatingSubset, testRatingSubset = train_test_split(ratingSubset, test_size=.2)"
   ]
  },
  {
   "cell_type": "code",
   "execution_count": 25,
   "metadata": {},
   "outputs": [
    {
     "name": "stdout",
     "output_type": "stream",
     "text": [
      "2018-04-20 21:27:46.484000\n",
      "Estimating biases using sgd...\n",
      "Computing the pearson_baseline similarity matrix...\n",
      "Done computing similarity matrix.\n",
      "2018-04-20 21:29:08.190000\n"
     ]
    }
   ],
   "source": [
    "print(now())\n",
    "algo.fit(trainingRatingSubset)\n",
    "print(now())"
   ]
  },
  {
   "cell_type": "markdown",
   "metadata": {},
   "source": [
    "## Generating Predictions\n",
    "\n",
    "This is done through the predict() method (explained on the getting started page)\n",
    "\n",
    "We can specify any user_id and anime_id we want (as long as we don't specify ratings on nonexistent anime or nonexistent users).\n",
    "\n",
    "For end-user-demo-purposes or whatever, we would need to:\n",
    "* Collect the user's data\n",
    "* Add the user's data as new rows of the dataset (imagine adding new rows to rating.csv). \n",
    "* From there we could simply run the same process (go through pandas DF, then the surprise dataset type), now able to treat them as an \"existing\" user."
   ]
  },
  {
   "cell_type": "code",
   "execution_count": 26,
   "metadata": {},
   "outputs": [
    {
     "name": "stdout",
     "output_type": "stream",
     "text": [
      "user: 373        item: 11711      r_ui = None   est = 7.16   {u'was_impossible': False}\n"
     ]
    }
   ],
   "source": [
    "# We'll use the known line 373,11771,8\n",
    "\n",
    "pred = algo.predict(373, 11711, verbose=True)\n",
    "#r_ui is an optional parameter displaying the ground truth value"
   ]
  },
  {
   "cell_type": "markdown",
   "metadata": {},
   "source": [
    "This prediction isn't too far off, which is nice. "
   ]
  },
  {
   "cell_type": "code",
   "execution_count": 27,
   "metadata": {
    "scrolled": true
   },
   "outputs": [
    {
     "name": "stdout",
     "output_type": "stream",
     "text": [
      "Ground Truth\tPrediction\n",
      "8\t\t7.322367054772657\n",
      "-1\t\t7.092108785595243\n",
      "7\t\t7.231108766464553\n",
      "4\t\t6.278871759388984\n",
      "10\t\t8.949432037327508\n",
      "9\t\t8.000618344436974\n",
      "8\t\t7.5027814503179835\n",
      "9\t\t7.93872621015756\n",
      "-1\t\t6.8060882133947\n",
      "8\t\t7.743934960231693\n",
      "-1\t\t6.361153549759088\n",
      "-1\t\t6.0765856679910915\n",
      "6\t\t6.631459693222434\n",
      "-1\t\t6.227468459864687\n",
      "-1\t\t6.8245540779840415\n",
      "10\t\t8.602001388685672\n",
      "10\t\t9.199434222978134\n",
      "9\t\t8.593639379766234\n",
      "-1\t\t7.594088426554322\n",
      "4\t\t5.952338649413228\n",
      "-1\t\t6.482859844511696\n",
      "-1\t\t6.056521079764605\n",
      "-1\t\t5.808158875713377\n",
      "-1\t\t5.733652613384064\n",
      "-1\t\t5.623319443872953\n",
      "-1\t\t5.574227526550976\n",
      "-1\t\t7.100156151800932\n",
      "7\t\t7.64716535265201\n",
      "-1\t\t6.510451837394258\n",
      "9\t\t8.677834518550359\n",
      "-1\t\t6.364813142953612\n",
      "7\t\t8.342507617433549\n",
      "9\t\t7.913071977901588\n",
      "7\t\t7.329952209630577\n",
      "-1\t\t6.900859799542011\n",
      "10\t\t9.02424935479901\n",
      "10\t\t9.090988271699993\n",
      "6\t\t6.990564274289637\n",
      "10\t\t8.846070492287813\n",
      "-1\t\t5.641554264419958\n",
      "-1\t\t7.0212609763383735\n",
      "-1\t\t5.636547474506153\n",
      "-1\t\t5.843453432457027\n",
      "-1\t\t8.889832088936902\n",
      "-1\t\t6.685223536015804\n",
      "10\t\t8.657651870170188\n",
      "10\t\t8.945917500974788\n",
      "-1\t\t5.952808233367117\n",
      "-1\t\t5.0\n",
      "-1\t\t6.161418891165995\n",
      "6\t\t7.391287283172955\n",
      "-1\t\t6.744949822471638\n",
      "9\t\t7.677686257540385\n",
      "-1\t\t5.764619174416856\n",
      "8\t\t7.111541957613929\n",
      "10\t\t8.787339560247622\n",
      "10\t\t9.313544942695254\n",
      "7\t\t7.18455282466856\n",
      "8\t\t8.25334614504787\n",
      "-1\t\t6.532255905303143\n",
      "6\t\t6.478794399622749\n",
      "-1\t\t7.071883152417335\n",
      "-1\t\t6.12613674150365\n",
      "6\t\t6.762246373602671\n",
      "7\t\t7.233739832253264\n",
      "10\t\t9.098000069778669\n",
      "7\t\t8.067037661336919\n",
      "9\t\t9.073915579218534\n",
      "-1\t\t6.283984691153587\n",
      "-1\t\t5.7806415497162424\n",
      "8\t\t7.1944585663061895\n",
      "10\t\t8.829288939971942\n",
      "10\t\t8.68007558253907\n",
      "7\t\t7.307178847724447\n",
      "6\t\t7.07250111780496\n",
      "10\t\t8.688963502300187\n",
      "4\t\t6.059685106299283\n",
      "9\t\t8.071526863214388\n",
      "9\t\t8.132050034010927\n",
      "9\t\t8.18644330164469\n",
      "7\t\t6.57425520219355\n",
      "-1\t\t5.7505784496930294\n",
      "10\t\t8.441120704974841\n",
      "7\t\t7.116579467591846\n",
      "7\t\t7.022100992222847\n",
      "10\t\t8.66560403934371\n",
      "-1\t\t5.972592954235257\n",
      "10\t\t8.857131187518661\n",
      "10\t\t8.429378006904027\n",
      "6\t\t6.638030495014834\n",
      "8\t\t7.646220659181524\n",
      "-1\t\t7.216699351442679\n",
      "-1\t\t5.921877588182449\n",
      "7\t\t7.287750468739037\n",
      "9\t\t8.228353402537968\n",
      "9\t\t7.493186136368421\n",
      "-1\t\t6.5643548157785325\n",
      "7\t\t6.716804027374399\n",
      "-1\t\t7.690394001433585\n",
      "10\t\t9.25879380813386\n",
      "9\t\t7.412700660030472\n",
      "10\t\t8.526471025062538\n",
      "8\t\t7.037233918972167\n",
      "8\t\t7.478035097935703\n",
      "7\t\t7.5322476551776765\n",
      "7\t\t7.0399911211053166\n",
      "8\t\t7.761063971322285\n",
      "-1\t\t6.509131326556989\n",
      "6\t\t6.9717125260303465\n",
      "-1\t\t6.845140160597063\n",
      "10\t\t8.190731098213126\n",
      "6\t\t6.652498934659376\n",
      "-1\t\t6.588427548928509\n",
      "-1\t\t5.674915432362663\n",
      "-1\t\t7.206016486461806\n",
      "8\t\t7.855963222673002\n",
      "8\t\t8.996820781261327\n",
      "8\t\t7.996343386529868\n",
      "6\t\t6.6384611337220925\n",
      "9\t\t7.787224407649857\n",
      "8\t\t7.728293494238187\n",
      "-1\t\t6.093935047167756\n",
      "9\t\t8.155147476406814\n",
      "9\t\t8.07204173789447\n",
      "10\t\t8.869518765029868\n",
      "7\t\t7.4460093577482995\n",
      "7\t\t7.580098447286685\n",
      "7\t\t6.94761969237807\n",
      "10\t\t8.804676574729683\n",
      "-1\t\t6.00408065202543\n",
      "8\t\t7.8893884151601705\n",
      "8\t\t7.416045263683926\n",
      "9\t\t7.500273690251891\n",
      "6\t\t6.349961064598023\n",
      "10\t\t8.895295698574111\n",
      "7\t\t7.301755289087631\n",
      "6\t\t6.543856276482006\n",
      "-1\t\t6.074988293386824\n",
      "7\t\t7.003044571392174\n",
      "6\t\t7.38222904768025\n",
      "-1\t\t5.685200540989957\n",
      "10\t\t8.156017567680907\n",
      "-1\t\t6.060957777681085\n",
      "7\t\t7.3707453287489395\n",
      "-1\t\t5.910452795535962\n",
      "-1\t\t6.913146008818104\n",
      "-1\t\t6.099363396428915\n",
      "-1\t\t5.9990689974307365\n",
      "-1\t\t6.051217535342324\n",
      "6\t\t7.295659144143413\n",
      "-1\t\t7.876486065157503\n",
      "9\t\t7.99105056318025\n",
      "-1\t\t6.714960265900294\n",
      "6\t\t6.8263929876330245\n",
      "9\t\t6.541651355226781\n",
      "7\t\t6.870721660227575\n",
      "8\t\t7.720763618745358\n",
      "9\t\t8.275392914326472\n",
      "-1\t\t7.877067576864593\n",
      "7\t\t7.85254096931863\n",
      "8\t\t7.460734735137183\n",
      "-1\t\t6.401199899164608\n",
      "8\t\t8.239573387597336\n",
      "8\t\t7.3615848700176985\n",
      "8\t\t8.269714151198716\n",
      "9\t\t7.610749549772239\n",
      "7\t\t7.050200520636415\n",
      "7\t\t7.806657799610159\n",
      "10\t\t9.257624756798673\n",
      "10\t\t7.836045760072507\n",
      "8\t\t8.081059708784238\n",
      "6\t\t6.7849322052696435\n",
      "10\t\t8.94043691858582\n",
      "7\t\t6.938201026650426\n",
      "6\t\t6.455569456178077\n",
      "7\t\t7.016709847580872\n",
      "-1\t\t5.701912391624779\n",
      "-1\t\t6.158376296370906\n",
      "-1\t\t7.0197278731368735\n",
      "7\t\t7.280971434096608\n",
      "-1\t\t7.112939106309053\n",
      "9\t\t8.237516378475723\n",
      "9\t\t8.084775679584181\n",
      "-1\t\t6.747452982824737\n",
      "8\t\t7.66957003437462\n",
      "10\t\t7.394829933030921\n",
      "7\t\t7.448367492516893\n",
      "10\t\t7.527375596053652\n",
      "7\t\t7.889212457113139\n",
      "10\t\t8.978453387114966\n",
      "-1\t\t6.494521997729302\n",
      "9\t\t7.749951395150104\n",
      "8\t\t7.1652697819094096\n",
      "7\t\t6.9048448629888375\n",
      "6\t\t7.464005736682894\n",
      "6\t\t6.496832500200931\n",
      "10\t\t8.07172562990781\n",
      "7\t\t7.241144334561816\n",
      "8\t\t7.6181126625434175\n",
      "6\t\t6.264337326490228\n",
      "-1\t\t7.220377598585312\n",
      "9\t\t8.177067264336372\n",
      "8\t\t7.805145901941724\n",
      "9\t\t7.936120391655525\n",
      "6\t\t6.5447430163000515\n",
      "6\t\t7.82820034864929\n",
      "9\t\t7.350524338482503\n",
      "8\t\t7.419062162050624\n",
      "7\t\t7.155841994184061\n",
      "9\t\t7.816133335642843\n",
      "8\t\t7.407796947144547\n",
      "10\t\t8.51638713608145\n",
      "5\t\t6.116964541424883\n",
      "8\t\t7.825545198959922\n",
      "8\t\t7.725918965584443\n",
      "9\t\t8.401247543603168\n",
      "9\t\t7.593784512281588\n",
      "7\t\t7.396412910318081\n",
      "6\t\t7.029608205079581\n",
      "8\t\t7.13254663361589\n",
      "6\t\t6.298330723230386\n",
      "9\t\t7.873754488895022\n",
      "7\t\t6.932219010382934\n",
      "10\t\t8.97713278125596\n",
      "9\t\t7.684374643022617\n",
      "9\t\t7.599000845915699\n",
      "8\t\t7.118434163426199\n",
      "8\t\t8.027896893116466\n",
      "9\t\t8.146922263100526\n",
      "8\t\t7.083074325372691\n",
      "8\t\t6.840303775784396\n",
      "10\t\t8.819852470532972\n",
      "7\t\t7.433353276663745\n",
      "10\t\t8.20557124656617\n",
      "10\t\t7.9209987206112125\n",
      "7\t\t6.795742282512603\n",
      "10\t\t7.8496637160781795\n",
      "7\t\t7.175703824379909\n",
      "9\t\t7.976756954835106\n",
      "8\t\t7.704524007143764\n",
      "6\t\t7.799719530556221\n",
      "7\t\t7.7263032261768245\n",
      "8\t\t6.695582739907843\n",
      "9\t\t7.664753322303403\n",
      "9\t\t8.071460783177043\n",
      "10\t\t8.555644810351685\n",
      "10\t\t8.080236583346528\n",
      "6\t\t6.430159862040997\n",
      "10\t\t8.031058042188489\n"
     ]
    }
   ],
   "source": [
    "# Some other sample explorations\n",
    "user373File = open('ratingUser373.txt','r')\n",
    "print(\"Ground Truth\\tPrediction\")\n",
    "\n",
    "for line in user373File:\n",
    "    tokens = line.strip().split(',')\n",
    "    groundTruth = tokens[2]\n",
    "    pred = algo.predict(int(tokens[0]), int(tokens[1]))\n",
    "    print(str(groundTruth)+\"\\t\\t\"+str(pred.est))"
   ]
  },
  {
   "cell_type": "markdown",
   "metadata": {},
   "source": [
    "~~...but all of the predicted ratings are the same.~~\n",
    "\n",
    "~~I believe this to be a problem with the SVD approach itself or with the data, not necesasrily with how I coded it--something about how it just uses the default mean and the user factors aren't there or something. I remember this being a recurring issue in previous implementations though.~~\n",
    "\n",
    "EDIT: See this github page here: https://github.com/NicolasHug/Surprise/issues/82\n",
    "\n",
    "Turns out that, for DataFrames specifically, the user_id and item_id should be *ints*. In all other cases (and all the documentation?) predict() uses strings."
   ]
  },
  {
   "cell_type": "markdown",
   "metadata": {},
   "source": [
    "## Evaluating Predictions\n",
    "\n",
    "`Surprise` has RMSE, MAE, and FCP (Fraction of Concordant Pairs) in its accuracy toolbox. It is possible to calculate precision and recall with some hacks detailed here: http://surprise.readthedocs.io/en/stable/FAQ.html#how-to-compute-precision-k-and-recall-k"
   ]
  },
  {
   "cell_type": "code",
   "execution_count": 28,
   "metadata": {},
   "outputs": [
    {
     "name": "stdout",
     "output_type": "stream",
     "text": [
      "2018-04-20 21:29:23.378000\n",
      "2018-04-20 21:31:06.264000\n"
     ]
    }
   ],
   "source": [
    "# Get the test predictions\n",
    "print(now())\n",
    "predictions = algo.test(testRatingSubset)\n",
    "print(now())"
   ]
  },
  {
   "cell_type": "code",
   "execution_count": 29,
   "metadata": {},
   "outputs": [
    {
     "name": "stdout",
     "output_type": "stream",
     "text": [
      "RMSE: 1.2062\n"
     ]
    },
    {
     "data": {
      "text/plain": [
       "1.2062479131392823"
      ]
     },
     "execution_count": 29,
     "metadata": {},
     "output_type": "execute_result"
    }
   ],
   "source": [
    "accuracy.rmse(predictions)"
   ]
  },
  {
   "cell_type": "code",
   "execution_count": null,
   "metadata": {},
   "outputs": [],
   "source": []
  }
 ],
 "metadata": {
  "kernelspec": {
   "display_name": "Python 2",
   "language": "python",
   "name": "python2"
  },
  "language_info": {
   "codemirror_mode": {
    "name": "ipython",
    "version": 2
   },
   "file_extension": ".py",
   "mimetype": "text/x-python",
   "name": "python",
   "nbconvert_exporter": "python",
   "pygments_lexer": "ipython2",
   "version": "2.7.14"
  }
 },
 "nbformat": 4,
 "nbformat_minor": 2
}
