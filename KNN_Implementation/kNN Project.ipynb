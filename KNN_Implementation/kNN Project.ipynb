{
 "cells": [
  {
   "cell_type": "code",
   "execution_count": 5,
   "metadata": {},
   "outputs": [],
   "source": [
    "import numpy as np\n",
    "import random\n",
    "from sklearn.model_selection import train_test_split\n",
    "\n",
    "train=[]\n",
    "test=[]\n",
    "check=[]\n",
    "\n",
    "with open('rating.csv') as fil:\n",
    "    for line in fil:\n",
    "        #data.append(line)\n",
    "        x=random.randint(1,100)\n",
    "        if x >30:\n",
    "            train.append(line)\n",
    "        else:\n",
    "            test.append(line)\n",
    "        if x>99:\n",
    "            check.append(line)\n",
    "#train, test = train_test_split(data, test_size=0.3)\n"
   ]
  },
  {
   "cell_type": "code",
   "execution_count": 6,
   "metadata": {},
   "outputs": [
    {
     "name": "stdout",
     "output_type": "stream",
     "text": [
      "5470978\n",
      "2342759\n",
      "77661\n"
     ]
    }
   ],
   "source": [
    "animeid=[]\n",
    "userid=[]\n",
    "rating=[]\n",
    "\n",
    "print len(train)\n",
    "print len(test)\n",
    "print len(check)\n",
    "\n",
    "for line in check:\n",
    "    data=line.split(',')\n",
    "    animeid.append(int(data[1]))\n",
    "    userid.append(int(data[0]))\n",
    "    rating.append(float(data[2]))\n",
    "    \n",
    "usercount = set(userid)\n",
    "usercount = list(usercount) #List of users from train set\n",
    "\n",
    "anime = set(animeid)\n",
    "anime = list(anime)   #List of anime from train set"
   ]
  },
  {
   "cell_type": "code",
   "execution_count": 7,
   "metadata": {},
   "outputs": [],
   "source": [
    "from collections import defaultdict\n",
    "import math\n",
    "\n",
    "ratings_matrix=defaultdict(dict)  \n",
    "\n",
    "users=[]\n",
    "\n",
    "for i in range(10):\n",
    "    users.append(usercount[i])\n",
    "\n",
    "for i in usercount:\n",
    "    for j in anime:\n",
    "        ratings_matrix[i][j]=-1\n",
    "        \n",
    "for i in range(len(userid)):\n",
    "    #if userid[i] in users:\n",
    "    ratings_matrix[userid[i]][animeid[i]]=rating[i]"
   ]
  },
  {
   "cell_type": "code",
   "execution_count": 9,
   "metadata": {},
   "outputs": [],
   "source": [
    "user_avg = dict()\n",
    "rating_count = dict()\n",
    "\n",
    "for i in usercount:\n",
    "    for j in anime:\n",
    "        if i in user_avg:\n",
    "            if ratings_matrix[i][j] != -1:\n",
    "                user_avg[i]+=ratings_matrix[i][j]\n",
    "                rating_count[i]+=1\n",
    "        else:\n",
    "            if ratings_matrix[i][j] != -1:\n",
    "                user_avg[i]=ratings_matrix[i][j]\n",
    "                rating_count[i]=1\n",
    "    if i in user_avg:\n",
    "        user_avg[i] = user_avg[i]/rating_count[i]\n",
    "    \n",
    "'''for i in users:\n",
    "    for j in anime:\n",
    "        if ratings_matrix[i][j] != 0:\n",
    "            ratings_matrix[i][j] -= user_avg[i]'''\n",
    "        \n",
    "    \n",
    "user_sim=defaultdict(dict)\n",
    "\n",
    "for i in users:\n",
    "    for j in usercount:\n",
    "        user_sim[i][j]=0\n",
    "\n",
    "norm1=0\n",
    "norm2=0\n",
    "for i in users:\n",
    "    for j in usercount:\n",
    "        user_sim[i][j]=0        \n",
    "        for k in anime:\n",
    "            if ratings_matrix[i][k]!=-1 and ratings_matrix[j][k]!=-1:\n",
    "                user_sim[i][j]+=(ratings_matrix[i][k]-user_avg[i])*(ratings_matrix[j][k]-user_avg[j])\n",
    "                norm1+=(ratings_matrix[i][k]-user_avg[i])*(ratings_matrix[i][k]-user_avg[i])\n",
    "                norm2+=(ratings_matrix[j][k]-user_avg[j])*(ratings_matrix[j][k]-user_avg[j])\n",
    "\n",
    "        norm1 = math.sqrt(norm1*norm2)\n",
    "        if norm1!=0:\n",
    "            user_sim[i][j] = user_sim[i][j]/norm1 "
   ]
  },
  {
   "cell_type": "code",
   "execution_count": 11,
   "metadata": {},
   "outputs": [],
   "source": [
    "# kNN\n",
    "k_user=defaultdict(dict)\n",
    "k=len(usercount)/10\n",
    "user_big=0\n",
    "\n",
    "for i in users:\n",
    "    for m in range(k):\n",
    "        big=-99.99\n",
    "        for j in usercount:\n",
    "            if user_sim[i][j] > big:\n",
    "                big = user_sim[i][j]\n",
    "                user_big = j\n",
    "        #print user_big, ' ', m \n",
    "        k_user[i][m]=user_big\n",
    "        #print user_sim[i][user_big],' 1 '\n",
    "        user_sim[i][user_big]-=100\n",
    "        #print user_sim[i][user_big], ' 2 '\n",
    "        #print\n",
    "        \n",
    "    for m in range(k):\n",
    "        user_sim[i][k_user[i][m]]+=100"
   ]
  },
  {
   "cell_type": "code",
   "execution_count": 28,
   "metadata": {},
   "outputs": [],
   "source": [
    "pred_rating=defaultdict(dict)\n",
    "\n",
    "for i in users:\n",
    "    for m in anime:\n",
    "        pred_rating[i][m]=0\n",
    "        for j in range(k):\n",
    "            if ratings_matrix[k_user[i][j]][m] != 0:\n",
    "                pred_rating[i][m] += 0.1*user_sim[i][k_user[i][j]]*ratings_matrix[k_user[i][j]][m]\n",
    "        if i in user_avg:\n",
    "            pred_rating[i][m]+=user_avg[i]"
   ]
  },
  {
   "cell_type": "code",
   "execution_count": 29,
   "metadata": {},
   "outputs": [],
   "source": [
    "tanimeid=[]\n",
    "tuserid=[]\n",
    "trating=[]\n",
    "error_diff=defaultdict(dict)\n",
    "count=0\n",
    "checktest=[]\n",
    "with open('rating.csv') as fil:\n",
    "    for line in fil:\n",
    "        #data.append(line)\n",
    "        x=random.randint(1,100)\n",
    "        if x >99:\n",
    "            checktest.append(line)\n",
    "            \n",
    "for line in checktest:\n",
    "    data = line.split(',')\n",
    "    tanimeid.append(int(data[1]))\n",
    "    tuserid.append(int(data[0]))\n",
    "    trating.append(float(data[2]))\n",
    "    \n",
    "tanime = set(tanimeid)\n",
    "tanime = list(tanime)\n",
    "\n",
    "tuser = set(tuserid)\n",
    "tuser = list(tuser)\n",
    "\n",
    "        \n",
    "tratings_matrix=defaultdict(dict)\n",
    "\n",
    "for i in usercount:\n",
    "    for j in anime:\n",
    "        tratings_matrix[i][j]=0\n",
    "\n",
    "for i in range(len(tuserid)):\n",
    "    tratings_matrix[tuserid[i]][tanimeid[i]]=trating[i]\n",
    "    \n",
    "for i in users:\n",
    "    for j in anime:\n",
    "        error_diff[i][j]=0\n",
    "        if i in tuser and j in tanime and tratings_matrix[i][j]!=0:\n",
    "            error_diff[i][j]=abs(tratings_matrix[i][j]-pred_rating[i][j])\n",
    "            count+=1"
   ]
  },
  {
   "cell_type": "code",
   "execution_count": 30,
   "metadata": {},
   "outputs": [
    {
     "name": "stdout",
     "output_type": "stream",
     "text": [
      "Mean Absolute Error =  2.05934856668\n"
     ]
    }
   ],
   "source": [
    "# Mean Absolute Error\n",
    "error_sum=0.0\n",
    "\n",
    "for i in users:\n",
    "    for j in anime:\n",
    "        error_sum+=error_diff[i][j]\n",
    "mae = error_sum/count\n",
    "print 'Mean Absolute Error = ', mae"
   ]
  },
  {
   "cell_type": "code",
   "execution_count": 31,
   "metadata": {},
   "outputs": [
    {
     "name": "stdout",
     "output_type": "stream",
     "text": [
      "Root Mean Squared Error =  9.43712068911\n"
     ]
    }
   ],
   "source": [
    "# Root Mean Squared Error\n",
    "import math\n",
    "\n",
    "rmse = error_sum*error_sum\n",
    "rmse = rmse/count\n",
    "rmse = math.sqrt(rmse)\n",
    "print 'Root Mean Squared Error = ', rmse"
   ]
  },
  {
   "cell_type": "code",
   "execution_count": null,
   "metadata": {},
   "outputs": [],
   "source": []
  }
 ],
 "metadata": {
  "kernelspec": {
   "display_name": "Python 2",
   "language": "python",
   "name": "python2"
  },
  "language_info": {
   "codemirror_mode": {
    "name": "ipython",
    "version": 2
   },
   "file_extension": ".py",
   "mimetype": "text/x-python",
   "name": "python",
   "nbconvert_exporter": "python",
   "pygments_lexer": "ipython2",
   "version": "2.7.14"
  }
 },
 "nbformat": 4,
 "nbformat_minor": 2
}
