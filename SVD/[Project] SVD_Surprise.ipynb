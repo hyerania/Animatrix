{
 "cells": [
  {
   "cell_type": "markdown",
   "metadata": {},
   "source": [
    "# Imports and Installs"
   ]
  },
  {
   "cell_type": "code",
   "execution_count": 1,
   "metadata": {},
   "outputs": [
    {
     "name": "stdout",
     "output_type": "stream",
     "text": [
      "Requirement already satisfied: surprise in c:\\users\\gerald\\anaconda2\\lib\\site-packages (0.1)\n",
      "Requirement already satisfied: scikit-surprise in c:\\users\\gerald\\anaconda2\\lib\\site-packages (from surprise) (1.0.5)\n",
      "Requirement already satisfied: six>=1.10.0 in c:\\users\\gerald\\anaconda2\\lib\\site-packages (from scikit-surprise->surprise) (1.11.0)\n",
      "Requirement already satisfied: numpy>=1.11.2 in c:\\users\\gerald\\anaconda2\\lib\\site-packages (from scikit-surprise->surprise) (1.13.3)\n",
      "Requirement already satisfied: joblib>=0.11 in c:\\users\\gerald\\anaconda2\\lib\\site-packages (from scikit-surprise->surprise) (0.11)\n"
     ]
    }
   ],
   "source": [
    "# Doesn't come default with our anaconda installations\n",
    "# http://surpriselib.com/\n",
    "!pip install surprise"
   ]
  },
  {
   "cell_type": "code",
   "execution_count": 2,
   "metadata": {
    "collapsed": true
   },
   "outputs": [],
   "source": [
    "from datetime import datetime\n",
    "\n",
    "def now():\n",
    "    return str(datetime.now())"
   ]
  },
  {
   "cell_type": "code",
   "execution_count": 3,
   "metadata": {},
   "outputs": [
    {
     "name": "stdout",
     "output_type": "stream",
     "text": [
      "2018-04-20 02:52:32.815000\n",
      "2018-04-20 02:52:34.133000\n"
     ]
    }
   ],
   "source": [
    "print(now())\n",
    "\n",
    "import pandas as pd\n",
    "import numpy as np\n",
    "\n",
    "from surprise import SVD\n",
    "from surprise.model_selection import cross_validate\n",
    "from surprise.model_selection import train_test_split\n",
    "from surprise import Dataset\n",
    "from surprise import Reader\n",
    "from surprise import accuracy\n",
    "\n",
    "print(now())"
   ]
  },
  {
   "cell_type": "markdown",
   "metadata": {},
   "source": [
    "# Loading In Data"
   ]
  },
  {
   "cell_type": "code",
   "execution_count": 4,
   "metadata": {},
   "outputs": [
    {
     "name": "stdout",
     "output_type": "stream",
     "text": [
      "2018-04-20 02:52:34.150000\n",
      "2018-04-20 02:52:34.884000\n"
     ]
    }
   ],
   "source": [
    "# Only using 1mil lines bc my computer cant handle more than that\n",
    "# Ran this one already\n",
    "\n",
    "print(now())\n",
    "infile = open('rating.csv', 'r')\n",
    "outfile = open('ratingSubset.csv', 'w')\n",
    "\n",
    "for i in range(1000000):\n",
    "    outfile.write(infile.readline())\n",
    "print(now())\n",
    "\n",
    "infile.close()\n",
    "outfile.close()"
   ]
  },
  {
   "cell_type": "markdown",
   "metadata": {},
   "source": [
    "Here I route the data through Pandas so I can adjust the \"-1\" ratings. -1, in the dataset, represents \"User has seen this item but declined to rate it\". I choose to interpret this as \"User mildly likes item\"--even if they outright hated it, they had enough interest in the item to 1) watch it, and 2) mark the item as watched (MyAnimeList does not automatically flag items you've seen, it's not Netflix)\n",
    "\n",
    "Thus I changed all -1s to 5s."
   ]
  },
  {
   "cell_type": "code",
   "execution_count": 5,
   "metadata": {},
   "outputs": [
    {
     "name": "stdout",
     "output_type": "stream",
     "text": [
      "2018-04-20 02:52:34.901000\n",
      "2018-04-20 02:52:35.339000\n"
     ]
    }
   ],
   "source": [
    "print(now())\n",
    "\n",
    "ratingSubset = pd.read_csv('ratingSubset.csv')\n",
    "\n",
    "print(now())"
   ]
  },
  {
   "cell_type": "code",
   "execution_count": 6,
   "metadata": {},
   "outputs": [],
   "source": [
    "ratingSubset[\"rating\"] = ratingSubset[\"rating\"].replace(to_replace = -1, value = 5)"
   ]
  },
  {
   "cell_type": "code",
   "execution_count": 7,
   "metadata": {},
   "outputs": [
    {
     "data": {
      "text/html": [
       "<div>\n",
       "<style>\n",
       "    .dataframe thead tr:only-child th {\n",
       "        text-align: right;\n",
       "    }\n",
       "\n",
       "    .dataframe thead th {\n",
       "        text-align: left;\n",
       "    }\n",
       "\n",
       "    .dataframe tbody tr th {\n",
       "        vertical-align: top;\n",
       "    }\n",
       "</style>\n",
       "<table border=\"1\" class=\"dataframe\">\n",
       "  <thead>\n",
       "    <tr style=\"text-align: right;\">\n",
       "      <th></th>\n",
       "      <th>user_id</th>\n",
       "      <th>anime_id</th>\n",
       "      <th>rating</th>\n",
       "    </tr>\n",
       "  </thead>\n",
       "  <tbody>\n",
       "    <tr>\n",
       "      <th>0</th>\n",
       "      <td>1</td>\n",
       "      <td>20</td>\n",
       "      <td>5</td>\n",
       "    </tr>\n",
       "    <tr>\n",
       "      <th>1</th>\n",
       "      <td>1</td>\n",
       "      <td>24</td>\n",
       "      <td>5</td>\n",
       "    </tr>\n",
       "    <tr>\n",
       "      <th>2</th>\n",
       "      <td>1</td>\n",
       "      <td>79</td>\n",
       "      <td>5</td>\n",
       "    </tr>\n",
       "    <tr>\n",
       "      <th>3</th>\n",
       "      <td>1</td>\n",
       "      <td>226</td>\n",
       "      <td>5</td>\n",
       "    </tr>\n",
       "    <tr>\n",
       "      <th>4</th>\n",
       "      <td>1</td>\n",
       "      <td>241</td>\n",
       "      <td>5</td>\n",
       "    </tr>\n",
       "  </tbody>\n",
       "</table>\n",
       "</div>"
      ],
      "text/plain": [
       "   user_id  anime_id  rating\n",
       "0        1        20       5\n",
       "1        1        24       5\n",
       "2        1        79       5\n",
       "3        1       226       5\n",
       "4        1       241       5"
      ]
     },
     "execution_count": 7,
     "metadata": {},
     "output_type": "execute_result"
    }
   ],
   "source": [
    "ratingSubset.head()"
   ]
  },
  {
   "cell_type": "code",
   "execution_count": 8,
   "metadata": {
    "collapsed": true
   },
   "outputs": [],
   "source": [
    "# Reader class: http://surprise.readthedocs.io/en/stable/reader.html#surprise.reader.Reader\n",
    "# Using custom datasets: http://surprise.readthedocs.io/en/stable/getting_started.html#load-custom\n",
    "\n",
    "# Directly from file:\n",
    "# reader = Reader(line_format='user item rating', sep=',', rating_scale=(1,10), skip_lines=1)\n",
    "# ratingSubset = Dataset.load_from_file(\"ratingSubset.csv\", reader=reader)\n",
    "\n",
    "# From Pandas DataFrame:\n",
    "reader = Reader(rating_scale=(1, 10))\n",
    "ratingSubset = Dataset.load_from_df(ratingSubset[['user_id', 'anime_id', 'rating']], reader)"
   ]
  },
  {
   "cell_type": "markdown",
   "metadata": {},
   "source": [
    "# Training and Sample Predictions\n",
    "\n",
    "Largely following this guide: http://surprise.readthedocs.io/en/stable/getting_started.html"
   ]
  },
  {
   "cell_type": "markdown",
   "metadata": {},
   "source": [
    "## Training"
   ]
  },
  {
   "cell_type": "code",
   "execution_count": 9,
   "metadata": {
    "collapsed": true
   },
   "outputs": [],
   "source": [
    "# http://surprise.readthedocs.io/en/stable/matrix_factorization.html#surprise.prediction_algorithms.matrix_factorization.SVD\n",
    "\n",
    "algo = SVD()"
   ]
  },
  {
   "cell_type": "code",
   "execution_count": 10,
   "metadata": {},
   "outputs": [],
   "source": [
    "trainingRatingSubset, testRatingSubset = train_test_split(ratingSubset, test_size=.25)"
   ]
  },
  {
   "cell_type": "code",
   "execution_count": 11,
   "metadata": {},
   "outputs": [
    {
     "name": "stdout",
     "output_type": "stream",
     "text": [
      "2018-04-20 02:52:39.933000\n",
      "2018-04-20 02:53:31.464000\n"
     ]
    }
   ],
   "source": [
    "print(now())\n",
    "algo.fit(trainingRatingSubset)\n",
    "print(now())"
   ]
  },
  {
   "cell_type": "markdown",
   "metadata": {},
   "source": [
    "## Generating Predictions\n",
    "\n",
    "This is done through the predict() method (explained on the getting started page)\n",
    "\n",
    "We can specify any user_id and anime_id we want (as long as we don't specify ratings on nonexistent anime or nonexistent users).\n",
    "\n",
    "For end-user-demo-purposes or whatever, we would need to:\n",
    "* Collect the user's data\n",
    "* Add the user's data as new rows of the dataset (imagine adding new rows to rating.csv). \n",
    "* From there we could simply run the same process (go through pandas DF, then the surprise dataset type), now able to treat them as an \"existing\" user."
   ]
  },
  {
   "cell_type": "code",
   "execution_count": 20,
   "metadata": {},
   "outputs": [
    {
     "name": "stdout",
     "output_type": "stream",
     "text": [
      "user: 373        item: 11711      r_ui = None   est = 7.22   {u'was_impossible': False}\n"
     ]
    }
   ],
   "source": [
    "# We'll use the known line 373,11771,8\n",
    "\n",
    "pred = algo.predict(373, 11711, verbose=True)\n",
    "#r_ui is an optional parameter displaying the ground truth value"
   ]
  },
  {
   "cell_type": "markdown",
   "metadata": {},
   "source": [
    "This prediction isn't too far off, which is nice. "
   ]
  },
  {
   "cell_type": "code",
   "execution_count": 19,
   "metadata": {
    "scrolled": true
   },
   "outputs": [
    {
     "name": "stdout",
     "output_type": "stream",
     "text": [
      "Ground Truth\tPrediction\n",
      "5\t\t5.91835129974\n",
      "7\t\t7.37951393223\n",
      "4\t\t4.95341453656\n",
      "10\t\t9.02367430374\n",
      "9\t\t8.11400567526\n",
      "8\t\t7.23721589118\n",
      "9\t\t6.67822975881\n",
      "5\t\t4.94946704532\n",
      "8\t\t6.91983667948\n",
      "5\t\t6.06202068973\n",
      "5\t\t5.39414553948\n",
      "6\t\t5.93556696197\n",
      "5\t\t4.96869690054\n",
      "5\t\t5.9022119847\n",
      "10\t\t9.60543417586\n",
      "10\t\t9.73945431572\n",
      "9\t\t8.88943131026\n",
      "5\t\t8.19220991895\n",
      "4\t\t4.20676266488\n",
      "5\t\t5.20111359504\n",
      "5\t\t4.81230676005\n",
      "5\t\t5.30100514797\n",
      "5\t\t4.85213142507\n",
      "5\t\t5.43448808955\n",
      "5\t\t5.24296069064\n",
      "5\t\t5.22980539764\n",
      "7\t\t7.23134606123\n",
      "5\t\t4.9076171021\n",
      "9\t\t8.23521522871\n",
      "5\t\t5.4240146539\n",
      "7\t\t6.91925388598\n",
      "9\t\t8.78546270206\n",
      "7\t\t6.28071659818\n",
      "5\t\t5.36567129499\n",
      "10\t\t9.6447339042\n",
      "10\t\t9.820532562\n",
      "6\t\t6.78514761793\n",
      "10\t\t8.10980266043\n",
      "5\t\t5.56931371011\n",
      "5\t\t5.00430013889\n",
      "5\t\t5.06539129596\n",
      "5\t\t5.76327393225\n",
      "5\t\t6.55546334652\n",
      "5\t\t5.75732958942\n",
      "10\t\t9.93691866859\n",
      "10\t\t9.41105663594\n",
      "5\t\t5.54555436599\n",
      "5\t\t7.33733636036\n",
      "5\t\t5.89108841876\n",
      "6\t\t6.38119046324\n",
      "5\t\t4.73880522122\n",
      "9\t\t7.78104783632\n",
      "5\t\t5.5316738541\n",
      "8\t\t6.8501602602\n",
      "10\t\t10\n",
      "10\t\t8.53038661367\n",
      "7\t\t8.03376021006\n",
      "8\t\t8.02680472815\n",
      "5\t\t5.1743278706\n",
      "6\t\t6.70838698067\n",
      "5\t\t6.89431801865\n",
      "5\t\t5.07408165096\n",
      "6\t\t6.18963311725\n",
      "7\t\t6.92792789659\n",
      "10\t\t8.89325817353\n",
      "7\t\t7.37412425882\n",
      "9\t\t8.3256946527\n",
      "5\t\t7.31843465216\n",
      "5\t\t5.72780844309\n",
      "8\t\t7.11232546421\n",
      "10\t\t9.66568050124\n",
      "10\t\t9.03524226671\n",
      "7\t\t7.35143983917\n",
      "6\t\t6.0327858787\n",
      "10\t\t8.72151030532\n",
      "4\t\t6.79713475652\n",
      "9\t\t8.78008351841\n",
      "9\t\t8.57221902812\n",
      "9\t\t8.08531464986\n",
      "7\t\t6.69057250781\n",
      "5\t\t5.30723414626\n",
      "10\t\t9.27898068944\n",
      "7\t\t7.23664662746\n",
      "7\t\t7.51083632366\n",
      "10\t\t8.20254906199\n",
      "5\t\t5.70192366821\n",
      "10\t\t8.74986505426\n",
      "10\t\t6.42486659011\n",
      "6\t\t7.76498928044\n",
      "8\t\t8.88748186432\n",
      "5\t\t5.26013494133\n",
      "5\t\t5.44183079872\n",
      "7\t\t7.29571234862\n",
      "9\t\t7.69760267027\n",
      "9\t\t7.67267069425\n",
      "5\t\t6.17739337762\n",
      "7\t\t6.55621398131\n",
      "5\t\t6.65242166641\n",
      "10\t\t8.93067255885\n",
      "9\t\t8.35552979905\n",
      "10\t\t9.66949032342\n",
      "8\t\t7.73557866075\n",
      "8\t\t7.2308158922\n",
      "7\t\t6.78508286954\n",
      "7\t\t7.37940975481\n",
      "8\t\t8.92814213635\n",
      "5\t\t6.18598131215\n",
      "6\t\t6.73779515057\n",
      "5\t\t6.42609646137\n",
      "10\t\t8.10456701029\n",
      "6\t\t7.00745260448\n",
      "5\t\t6.18677995038\n",
      "5\t\t5.89682236921\n",
      "5\t\t5.94504043817\n",
      "8\t\t8.5969550959\n",
      "8\t\t7.30992880287\n",
      "8\t\t8.69705175453\n",
      "6\t\t6.17902649028\n",
      "9\t\t8.68822610546\n",
      "8\t\t7.41288715749\n",
      "5\t\t5.92835348306\n",
      "9\t\t9.02036945368\n",
      "9\t\t8.97926234138\n",
      "10\t\t8.8903655011\n",
      "7\t\t5.91741014225\n",
      "7\t\t7.1088182691\n",
      "7\t\t7.65798675445\n",
      "10\t\t9.73028327452\n",
      "5\t\t5.42928292642\n",
      "8\t\t8.59434764569\n",
      "8\t\t7.59344659119\n",
      "9\t\t8.01517460252\n",
      "6\t\t6.43149592449\n",
      "10\t\t9.52010784908\n",
      "7\t\t9.06642763404\n",
      "6\t\t6.77652592709\n",
      "5\t\t7.30144584915\n",
      "7\t\t6.40502070644\n",
      "6\t\t8.82709548574\n",
      "5\t\t6.46565645855\n",
      "10\t\t9.32947771078\n",
      "5\t\t7.18141254632\n",
      "7\t\t7.274201772\n",
      "5\t\t5.5296573095\n",
      "5\t\t6.13302227513\n",
      "5\t\t6.37085631719\n",
      "5\t\t7.24600113907\n",
      "5\t\t7.37039830808\n",
      "6\t\t6.44490631567\n",
      "5\t\t8.39008750893\n",
      "9\t\t8.04773504519\n",
      "5\t\t6.67940740995\n",
      "6\t\t6.65206663313\n",
      "9\t\t7.73325399487\n",
      "7\t\t7.87684279078\n",
      "8\t\t8.05143025818\n",
      "9\t\t8.03618921203\n",
      "5\t\t7.27377614347\n",
      "7\t\t7.14677477729\n",
      "8\t\t6.79943302153\n",
      "5\t\t6.43781553541\n",
      "8\t\t8.80924535236\n",
      "8\t\t6.92770015155\n",
      "8\t\t8.01797893888\n",
      "9\t\t7.288102751\n",
      "7\t\t7.11252841995\n",
      "7\t\t7.62869003934\n",
      "10\t\t8.83828426115\n",
      "10\t\t9.2817228298\n",
      "8\t\t9.12967469616\n",
      "6\t\t6.49066448423\n",
      "10\t\t10\n",
      "7\t\t6.06218713685\n",
      "6\t\t6.54774051143\n",
      "7\t\t6.7377380373\n",
      "5\t\t5.98568031539\n",
      "5\t\t5.22861088844\n",
      "5\t\t7.44698710929\n",
      "7\t\t6.95866547336\n",
      "5\t\t6.45840978272\n",
      "9\t\t9.01552077027\n",
      "9\t\t8.78956492911\n",
      "5\t\t6.61937652706\n",
      "8\t\t7.83801948516\n",
      "10\t\t8.90703161375\n",
      "7\t\t7.18640357073\n",
      "10\t\t8.7138000487\n",
      "7\t\t9.09400813744\n",
      "10\t\t8.16089096053\n",
      "5\t\t6.69066891193\n",
      "9\t\t8.02479365048\n",
      "8\t\t7.78722588217\n",
      "7\t\t6.4138234831\n",
      "6\t\t6.72567772394\n",
      "6\t\t7.25811170872\n",
      "10\t\t9.45374487604\n",
      "7\t\t7.15856305532\n",
      "8\t\t7.07941798791\n",
      "6\t\t5.88406231647\n",
      "5\t\t7.31863000784\n",
      "9\t\t7.9565624488\n",
      "8\t\t7.46680603952\n",
      "9\t\t8.30277645523\n",
      "6\t\t7.92228470455\n",
      "6\t\t7.3193560837\n",
      "9\t\t7.52172621124\n",
      "8\t\t7.15733088505\n",
      "7\t\t7.15118963641\n",
      "9\t\t7.38464602253\n",
      "8\t\t7.17700712806\n",
      "10\t\t9.41397166844\n",
      "5\t\t5.59532424611\n",
      "8\t\t8.57291457586\n",
      "8\t\t8.76108769378\n",
      "9\t\t8.83041095672\n",
      "9\t\t8.2807938194\n",
      "7\t\t7.42701731241\n",
      "6\t\t6.71953231258\n",
      "8\t\t7.0261126265\n",
      "6\t\t6.0558843788\n",
      "9\t\t7.89276569783\n",
      "7\t\t6.6587596281\n",
      "10\t\t9.35561692102\n",
      "9\t\t8.10942963349\n",
      "9\t\t7.88790314108\n",
      "8\t\t7.5777249441\n",
      "8\t\t8.70324711945\n",
      "9\t\t8.50021543751\n",
      "8\t\t6.64426475049\n",
      "8\t\t7.06122288709\n",
      "10\t\t9.47497843872\n",
      "7\t\t8.84000535498\n",
      "10\t\t8.5171450514\n",
      "10\t\t9.21978560431\n",
      "7\t\t7.36455889603\n",
      "10\t\t9.38955354638\n",
      "7\t\t7.68325955866\n",
      "9\t\t8.72101493325\n",
      "8\t\t8.54773592741\n",
      "6\t\t8.91295087119\n",
      "7\t\t7.62930147321\n",
      "8\t\t7.36137379947\n",
      "9\t\t8.35712935624\n",
      "9\t\t8.07876173394\n",
      "10\t\t9.30296702562\n",
      "10\t\t8.95214330839\n",
      "6\t\t6.5923269969\n",
      "10\t\t9.01379708858\n"
     ]
    }
   ],
   "source": [
    "# Some other sample explorations\n",
    "user373File = open('ratingUser373.txt','r')\n",
    "print(\"Ground Truth\\tPrediction\")\n",
    "\n",
    "for line in user373File:\n",
    "    tokens = line.strip().split(',')\n",
    "    groundTruth = tokens[2]\n",
    "    pred = algo.predict(int(tokens[0]), int(tokens[1]))\n",
    "    print(str(groundTruth)+\"\\t\\t\"+str(pred.est))"
   ]
  },
  {
   "cell_type": "markdown",
   "metadata": {},
   "source": [
    "~~...but all of the predicted ratings are the same.~~\n",
    "\n",
    "~~I believe this to be a problem with the SVD approach itself or with the data, not necesasrily with how I coded it--something about how it just uses the default mean and the user factors aren't there or something. I remember this being a recurring issue in previous implementations though.~~\n",
    "\n",
    "EDIT: See this github page here: https://github.com/NicolasHug/Surprise/issues/82\n",
    "\n",
    "Turns out that, for DataFrames specifically, the user_id and item_id should be *ints*. In all other cases (and all the documentation?) predict() uses strings."
   ]
  },
  {
   "cell_type": "markdown",
   "metadata": {},
   "source": [
    "## Evaluating Predictions\n",
    "\n",
    "`Surprise` has RMSE, MAE, and FCP (Fraction of Concordant Pairs) in its accuracy toolbox. It is possible to calculate precision and recall with some hacks detailed here: http://surprise.readthedocs.io/en/stable/FAQ.html#how-to-compute-precision-k-and-recall-k"
   ]
  },
  {
   "cell_type": "code",
   "execution_count": 14,
   "metadata": {},
   "outputs": [
    {
     "name": "stdout",
     "output_type": "stream",
     "text": [
      "2018-04-20 02:53:31.600000\n",
      "2018-04-20 02:53:34.828000\n"
     ]
    }
   ],
   "source": [
    "# Get the test predictions\n",
    "print(now())\n",
    "predictions = algo.test(testRatingSubset)\n",
    "print(now())"
   ]
  },
  {
   "cell_type": "code",
   "execution_count": 15,
   "metadata": {},
   "outputs": [
    {
     "name": "stdout",
     "output_type": "stream",
     "text": [
      "RMSE: 1.2476\n"
     ]
    },
    {
     "data": {
      "text/plain": [
       "1.2476084609411571"
      ]
     },
     "execution_count": 15,
     "metadata": {},
     "output_type": "execute_result"
    }
   ],
   "source": [
    "accuracy.rmse(predictions)"
   ]
  },
  {
   "cell_type": "code",
   "execution_count": null,
   "metadata": {
    "collapsed": true
   },
   "outputs": [],
   "source": []
  }
 ],
 "metadata": {
  "kernelspec": {
   "display_name": "Python 2",
   "language": "python",
   "name": "python2"
  },
  "language_info": {
   "codemirror_mode": {
    "name": "ipython",
    "version": 2
   },
   "file_extension": ".py",
   "mimetype": "text/x-python",
   "name": "python",
   "nbconvert_exporter": "python",
   "pygments_lexer": "ipython2",
   "version": "2.7.14"
  }
 },
 "nbformat": 4,
 "nbformat_minor": 2
}
