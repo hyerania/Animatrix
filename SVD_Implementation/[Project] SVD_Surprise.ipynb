{
 "cells": [
  {
   "cell_type": "markdown",
   "metadata": {},
   "source": [
    "# Imports and Installs"
   ]
  },
  {
   "cell_type": "code",
   "execution_count": 1,
   "metadata": {},
   "outputs": [
    {
     "name": "stdout",
     "output_type": "stream",
     "text": [
      "Requirement already satisfied: surprise in c:\\users\\gerald\\anaconda2\\lib\\site-packages (0.1)\n",
      "Requirement already satisfied: scikit-surprise in c:\\users\\gerald\\anaconda2\\lib\\site-packages (from surprise) (1.0.5)\n",
      "Requirement already satisfied: six>=1.10.0 in c:\\users\\gerald\\anaconda2\\lib\\site-packages (from scikit-surprise->surprise) (1.11.0)\n",
      "Requirement already satisfied: numpy>=1.11.2 in c:\\users\\gerald\\anaconda2\\lib\\site-packages (from scikit-surprise->surprise) (1.13.3)\n",
      "Requirement already satisfied: joblib>=0.11 in c:\\users\\gerald\\anaconda2\\lib\\site-packages (from scikit-surprise->surprise) (0.11)\n"
     ]
    }
   ],
   "source": [
    "# Doesn't come default with our anaconda installations\n",
    "# http://surpriselib.com/\n",
    "!pip install surprise"
   ]
  },
  {
   "cell_type": "code",
   "execution_count": 2,
   "metadata": {
    "collapsed": true
   },
   "outputs": [],
   "source": [
    "from datetime import datetime\n",
    "\n",
    "def now():\n",
    "    return str(datetime.now())"
   ]
  },
  {
   "cell_type": "code",
   "execution_count": 117,
   "metadata": {},
   "outputs": [
    {
     "name": "stdout",
     "output_type": "stream",
     "text": [
      "2018-04-23 14:13:33.074000\n",
      "2018-04-23 14:13:33.074000\n"
     ]
    }
   ],
   "source": [
    "print(now())\n",
    "\n",
    "import pandas as pd\n",
    "import numpy as np\n",
    "\n",
    "from surprise import SVD\n",
    "from surprise import SVDpp\n",
    "from surprise.model_selection import cross_validate\n",
    "from surprise.model_selection import train_test_split\n",
    "from surprise import Dataset\n",
    "from surprise import Reader\n",
    "from surprise import accuracy\n",
    "\n",
    "print(now())"
   ]
  },
  {
   "cell_type": "markdown",
   "metadata": {},
   "source": [
    "# Loading In Data (V2)\n",
    "\n",
    "As requested by Yerania, I'm using a specific subset to train/test on, for consistency across all computers. The specific request was to use user IDs <= 6000, and a 20% test set."
   ]
  },
  {
   "cell_type": "markdown",
   "metadata": {},
   "source": [
    "Here I route the data through Pandas so I can adjust the \"-1\" ratings. -1, in the dataset, represents \"User has seen this item but declined to rate it\". I choose to interpret this as \"User mildly likes item\"--even if they outright hated it, they had enough interest in the item to 1) watch it, and 2) mark the item as watched (MyAnimeList does not automatically flag items you've seen, it's not Netflix)\n",
    "\n",
    "Thus I changed all -1s to 5s."
   ]
  },
  {
   "cell_type": "code",
   "execution_count": 4,
   "metadata": {},
   "outputs": [
    {
     "name": "stdout",
     "output_type": "stream",
     "text": [
      "2018-04-20 22:21:16.924000\n",
      "2018-04-20 22:21:19.094000\n"
     ]
    }
   ],
   "source": [
    "print(now())\n",
    "ratingDF = pd.read_csv('rating.csv')\n",
    "print(now())"
   ]
  },
  {
   "cell_type": "code",
   "execution_count": 5,
   "metadata": {
    "collapsed": true
   },
   "outputs": [],
   "source": [
    "ratingDF[\"rating\"] = ratingDF[\"rating\"].replace(to_replace = -1, value = 5)"
   ]
  },
  {
   "cell_type": "code",
   "execution_count": 6,
   "metadata": {},
   "outputs": [
    {
     "data": {
      "text/html": [
       "<div>\n",
       "<style>\n",
       "    .dataframe thead tr:only-child th {\n",
       "        text-align: right;\n",
       "    }\n",
       "\n",
       "    .dataframe thead th {\n",
       "        text-align: left;\n",
       "    }\n",
       "\n",
       "    .dataframe tbody tr th {\n",
       "        vertical-align: top;\n",
       "    }\n",
       "</style>\n",
       "<table border=\"1\" class=\"dataframe\">\n",
       "  <thead>\n",
       "    <tr style=\"text-align: right;\">\n",
       "      <th></th>\n",
       "      <th>user_id</th>\n",
       "      <th>anime_id</th>\n",
       "      <th>rating</th>\n",
       "    </tr>\n",
       "  </thead>\n",
       "  <tbody>\n",
       "    <tr>\n",
       "      <th>0</th>\n",
       "      <td>1</td>\n",
       "      <td>20</td>\n",
       "      <td>5</td>\n",
       "    </tr>\n",
       "    <tr>\n",
       "      <th>1</th>\n",
       "      <td>1</td>\n",
       "      <td>24</td>\n",
       "      <td>5</td>\n",
       "    </tr>\n",
       "    <tr>\n",
       "      <th>2</th>\n",
       "      <td>1</td>\n",
       "      <td>79</td>\n",
       "      <td>5</td>\n",
       "    </tr>\n",
       "    <tr>\n",
       "      <th>3</th>\n",
       "      <td>1</td>\n",
       "      <td>226</td>\n",
       "      <td>5</td>\n",
       "    </tr>\n",
       "    <tr>\n",
       "      <th>4</th>\n",
       "      <td>1</td>\n",
       "      <td>241</td>\n",
       "      <td>5</td>\n",
       "    </tr>\n",
       "  </tbody>\n",
       "</table>\n",
       "</div>"
      ],
      "text/plain": [
       "   user_id  anime_id  rating\n",
       "0        1        20       5\n",
       "1        1        24       5\n",
       "2        1        79       5\n",
       "3        1       226       5\n",
       "4        1       241       5"
      ]
     },
     "execution_count": 6,
     "metadata": {},
     "output_type": "execute_result"
    }
   ],
   "source": [
    "ratingDF.head()"
   ]
  },
  {
   "cell_type": "code",
   "execution_count": 7,
   "metadata": {
    "collapsed": true
   },
   "outputs": [],
   "source": [
    "ratingSubset = ratingDF[ratingDF.user_id <= 6000]"
   ]
  },
  {
   "cell_type": "code",
   "execution_count": 8,
   "metadata": {
    "collapsed": true
   },
   "outputs": [],
   "source": [
    "del ratingDF\n",
    "# Gotta save that RAM"
   ]
  },
  {
   "cell_type": "code",
   "execution_count": 9,
   "metadata": {
    "collapsed": true
   },
   "outputs": [],
   "source": [
    "# Reader class: http://surprise.readthedocs.io/en/stable/reader.html#surprise.reader.Reader\n",
    "# Using custom datasets: http://surprise.readthedocs.io/en/stable/getting_started.html#load-custom\n",
    "\n",
    "# Directly from file:\n",
    "# reader = Reader(line_format='user item rating', sep=',', rating_scale=(1,10), skip_lines=1)\n",
    "# ratingSubset = Dataset.load_from_file(\"ratingSubset.csv\", reader=reader)\n",
    "\n",
    "# From Pandas DataFrame:\n",
    "reader = Reader(rating_scale=(1, 10))\n",
    "ratingSubset = Dataset.load_from_df(ratingSubset[['user_id', 'anime_id', 'rating']], reader)"
   ]
  },
  {
   "cell_type": "markdown",
   "metadata": {},
   "source": [
    "# Training and Sample Predictions\n",
    "\n",
    "Largely following this guide: http://surprise.readthedocs.io/en/stable/getting_started.html"
   ]
  },
  {
   "cell_type": "markdown",
   "metadata": {},
   "source": [
    "## Training"
   ]
  },
  {
   "cell_type": "code",
   "execution_count": 34,
   "metadata": {
    "collapsed": true
   },
   "outputs": [],
   "source": [
    "trainingRatingSubset, testRatingSubset = train_test_split(ratingSubset, test_size=.2)"
   ]
  },
  {
   "cell_type": "code",
   "execution_count": 144,
   "metadata": {},
   "outputs": [],
   "source": [
    "# http://surprise.readthedocs.io/en/stable/matrix_factorization.html#surprise.prediction_algorithms.matrix_factorization.SVD\n",
    "\n",
    "algo = SVD(n_factors = 50, reg_all = 0.05)"
   ]
  },
  {
   "cell_type": "code",
   "execution_count": 145,
   "metadata": {},
   "outputs": [
    {
     "name": "stdout",
     "output_type": "stream",
     "text": [
      "2018-04-23 15:41:35.777000\n",
      "2018-04-23 15:41:53.607000\n"
     ]
    }
   ],
   "source": [
    "print(now())\n",
    "algo.fit(trainingRatingSubset)\n",
    "print(now())"
   ]
  },
  {
   "cell_type": "markdown",
   "metadata": {},
   "source": [
    "## Generating Predictions\n",
    "\n",
    "This is done through the predict() method (explained on the getting started page)\n",
    "\n",
    "We can specify any user_id and anime_id we want (as long as we don't specify ratings on nonexistent anime or nonexistent users).\n",
    "\n",
    "For end-user-demo-purposes or whatever, we would need to:\n",
    "* Collect the user's data\n",
    "* Add the user's data as new rows of the dataset (imagine adding new rows to rating.csv). \n",
    "* From there we could simply run the same process (go through pandas DF, then the surprise dataset type), now able to treat them as an \"existing\" user."
   ]
  },
  {
   "cell_type": "code",
   "execution_count": 146,
   "metadata": {},
   "outputs": [
    {
     "name": "stdout",
     "output_type": "stream",
     "text": [
      "user: 373        item: 11771      r_ui = None   est = 8.62   {u'was_impossible': False}\n"
     ]
    }
   ],
   "source": [
    "# We'll use the known line 373,11771,8\n",
    "\n",
    "pred = algo.predict(373, 11771, verbose=True)\n",
    "#r_ui is an optional parameter displaying the ground truth value"
   ]
  },
  {
   "cell_type": "markdown",
   "metadata": {},
   "source": [
    "See this github page here: https://github.com/NicolasHug/Surprise/issues/82\n",
    "\n",
    "For DataFrames specifically, the user_id and item_id should be *ints*. In all other cases (and all the documentation?) predict() uses strings to specify user_id and item_id."
   ]
  },
  {
   "cell_type": "markdown",
   "metadata": {},
   "source": [
    "## Evaluating Predictions\n",
    "\n",
    "`Surprise` has RMSE, MAE, and FCP (Fraction of Concordant Pairs) in its accuracy toolbox. It is possible to calculate precision and recall with some hacks detailed here: http://surprise.readthedocs.io/en/stable/FAQ.html#how-to-compute-precision-k-and-recall-k"
   ]
  },
  {
   "cell_type": "code",
   "execution_count": 147,
   "metadata": {},
   "outputs": [
    {
     "name": "stdout",
     "output_type": "stream",
     "text": [
      "2018-04-23 15:42:02.357000\n",
      "2018-04-23 15:42:03.727000\n"
     ]
    }
   ],
   "source": [
    "# Get the test predictions\n",
    "print(now())\n",
    "predictions = algo.test(testRatingSubset)\n",
    "print(now())"
   ]
  },
  {
   "cell_type": "code",
   "execution_count": 148,
   "metadata": {},
   "outputs": [
    {
     "name": "stdout",
     "output_type": "stream",
     "text": [
      "RMSE: 1.2022\n"
     ]
    },
    {
     "data": {
      "text/plain": [
       "1.2021691143590241"
      ]
     },
     "execution_count": 148,
     "metadata": {},
     "output_type": "execute_result"
    }
   ],
   "source": [
    "accuracy.rmse(predictions)"
   ]
  },
  {
   "cell_type": "code",
   "execution_count": 149,
   "metadata": {},
   "outputs": [
    {
     "name": "stdout",
     "output_type": "stream",
     "text": [
      "MAE:  0.8886\n"
     ]
    },
    {
     "data": {
      "text/plain": [
       "0.88859607243432459"
      ]
     },
     "execution_count": 149,
     "metadata": {},
     "output_type": "execute_result"
    }
   ],
   "source": [
    "accuracy.mae(predictions)"
   ]
  }
 ],
 "metadata": {
  "kernelspec": {
   "display_name": "Python 2",
   "language": "python",
   "name": "python2"
  },
  "language_info": {
   "codemirror_mode": {
    "name": "ipython",
    "version": 2
   },
   "file_extension": ".py",
   "mimetype": "text/x-python",
   "name": "python",
   "nbconvert_exporter": "python",
   "pygments_lexer": "ipython2",
   "version": "2.7.14"
  }
 },
 "nbformat": 4,
 "nbformat_minor": 2
}
